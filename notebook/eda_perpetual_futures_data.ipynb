{
 "cells": [
  {
   "cell_type": "markdown",
   "metadata": {},
   "source": [
    "# EDA perpetual futures data\n",
    "\n",
    "There are three files with historical data:\n",
    "- `<symbol>-<timeframe>-futures.feather`: contains OHLCV historical data.\n",
    "- `<symbol>-<timeframe>-funding_rate.feather`: contains historical data.\n",
    "- `<symbol>-<timeframe>-mark.feather`: contains historical data."
   ]
  },
  {
   "cell_type": "code",
   "execution_count": null,
   "metadata": {},
   "outputs": [],
   "source": [
    "from pathlib import Path\n",
    "\n",
    "import pandas as pd\n",
    "import plotly.express as px"
   ]
  },
  {
   "cell_type": "code",
   "execution_count": null,
   "metadata": {},
   "outputs": [],
   "source": [
    "import logging\n",
    "\n",
    "logging.basicConfig(level=logging.DEBUG)\n",
    "logger = logging.getLogger(__name__)"
   ]
  },
  {
   "cell_type": "code",
   "execution_count": null,
   "metadata": {},
   "outputs": [],
   "source": [
    "DATA_PATH = Path(\"/path/to/data/binance-futures\")\n",
    "SYMBOL_MARKET = \"BTC-USDT:USDT\""
   ]
  },
  {
   "cell_type": "code",
   "execution_count": null,
   "metadata": {},
   "outputs": [],
   "source": [
    "def get_feather_path(_data_path: Path, _data_type: str, _timeframe: str, _symbol_market: str) -> Path:\n",
    "    \"\"\"Gets the path to the feather file for the given symbol_market, timeframe and data type.\n",
    "\n",
    "    - Normalize symbol with underscores. Example: BTC-USDT:USDT -> BTC_USDT_USDT\n",
    "    - Available data types are: \"futures\", \"funding_rate\", \"mark\".\n",
    "    - Available timeframes are: \"1m\", \"5m\", \"8h\".\n",
    "    \"\"\"\n",
    "    # Checks if the data type is valid\n",
    "    if _data_type not in [\"futures\", \"funding_rate\", \"mark\"]:\n",
    "        raise ValueError(f\"Invalid data type: {_data_type}\")\n",
    "    \n",
    "    # Checks if the timeframe is valid\n",
    "    if _timeframe not in [\"1m\", \"5m\", \"8h\"]:\n",
    "        raise ValueError(f\"Invalid timeframe: {_timeframe}\")\n",
    "    \n",
    "    logger.debug(\"Building file path for %s %s %s %s\", _data_path, _data_type, _timeframe, _symbol_market)\n",
    "    # Normalize symbol_market\n",
    "    _symbol_market = _symbol_market.replace(\"-\", \"_\")\n",
    "    _symbol_market = _symbol_market.replace(\":\", \"_\")\n",
    "    \n",
    "    file_name = f\"{_symbol_market}-{_timeframe}-{_data_type}.feather\"\n",
    "    feather_path = _data_path / file_name\n",
    "    \n",
    "    logger.debug(\"Returning feather path: %s\", feather_path)\n",
    "    \n",
    "    return feather_path\n"
   ]
  },
  {
   "cell_type": "code",
   "execution_count": null,
   "metadata": {},
   "outputs": [],
   "source": [
    "# Load OHLCV price data\n",
    "file_path = get_feather_path(DATA_PATH, \"futures\", \"5m\", SYMBOL_MARKET)\n",
    "\n",
    "ohlcv_df = pd.read_feather(file_path)\n",
    "print(\"OHLCV Data:\")\n",
    "print(ohlcv_df.head())  # print the first 5 rows of the data\n",
    "\n",
    "# Basic statistics of OHLCV data\n",
    "print(ohlcv_df.describe())\n",
    "\n",
    "# Convert wide-form data to long-form data\n",
    "melted_data = pd.melt(ohlcv_df.loc[ohlcv_df[\"date\"] >= \"2024-01-01\", :], id_vars=['date'], value_vars=['open', 'high', 'low', 'close', 'volume'])\n",
    "\n",
    "# Plotting OHLCV data\n",
    "px.line(melted_data, x='date', y='value', color='variable').show()\n"
   ]
  },
  {
   "cell_type": "code",
   "execution_count": null,
   "metadata": {},
   "outputs": [],
   "source": [
    "# Load OHLCV price data\n",
    "file_path = get_feather_path(DATA_PATH, \"funding_rate\", \"8h\", SYMBOL_MARKET)\n",
    "\n",
    "fr_df = pd.read_feather(file_path)\n",
    "print(\"Funding rate Data:\")\n",
    "print(fr_df.head())  # print the first 5 rows of the data\n",
    "\n",
    "# Basic statistics of OHLCV data\n",
    "print(fr_df.describe())\n",
    "\n",
    "# Plotting funding rate data in a bar chart\n",
    "px.bar(fr_df, x='date', y='open').show()\n"
   ]
  },
  {
   "cell_type": "code",
   "execution_count": null,
   "metadata": {},
   "outputs": [],
   "source": [
    "# Load OHLCV price data\n",
    "file_path = get_feather_path(DATA_PATH, \"mark\", \"8h\", SYMBOL_MARKET)\n",
    "\n",
    "mark_df = pd.read_feather(file_path)\n",
    "print(\"Funding rate Data:\")\n",
    "print(mark_df.head())  # print the first 5 rows of the data\n",
    "\n",
    "# Basic statistics of OHLCV data\n",
    "print(mark_df.describe())\n",
    "\n",
    "# Convert wide-form data to long-form data\n",
    "melted_data = pd.melt(mark_df.loc[mark_df[\"date\"] >= \"2024-01-01\", :], id_vars=['date'], value_vars=['open', 'high', 'low', 'close', 'volume'])\n",
    "\n",
    "# Plotting OHLCV data\n",
    "px.line(melted_data, x='date', y='value', color='variable').show()\n"
   ]
  },
  {
   "cell_type": "code",
   "execution_count": null,
   "metadata": {},
   "outputs": [],
   "source": []
  }
 ],
 "metadata": {
  "kernelspec": {
   "display_name": "Python 3",
   "language": "python",
   "name": "python3"
  },
  "language_info": {
   "codemirror_mode": {
    "name": "ipython",
    "version": 3
   },
   "file_extension": ".py",
   "mimetype": "text/x-python",
   "name": "python",
   "nbconvert_exporter": "python",
   "pygments_lexer": "ipython3",
   "version": "3.12.0"
  }
 },
 "nbformat": 4,
 "nbformat_minor": 4
}
