{
 "cells": [
  {
   "cell_type": "code",
   "execution_count": null,
   "metadata": {},
   "outputs": [],
   "source": [
    "import json\n",
    "\n",
    "import pandas as pd\n",
    "import plotly.express as px\n",
    "import plotly.graph_objects as go"
   ]
  },
  {
   "cell_type": "markdown",
   "metadata": {},
   "source": [
    "# Load simulation result"
   ]
  },
  {
   "cell_type": "code",
   "execution_count": null,
   "metadata": {},
   "outputs": [],
   "source": [
    "SIMULATION_RESULT_JSON_PATH = \"../output/simulation_result.json\""
   ]
  },
  {
   "cell_type": "code",
   "execution_count": null,
   "metadata": {},
   "outputs": [],
   "source": [
    "from perp_simulation.entity.simulation import Simulation\n",
    "\n",
    "\n",
    "simulation_result_dict = json.load(open(SIMULATION_RESULT_JSON_PATH))\n",
    "simulation_result = Simulation.from_dict(simulation_result_dict)"
   ]
  },
  {
   "cell_type": "markdown",
   "metadata": {},
   "source": [
    "## Simulation info"
   ]
  },
  {
   "cell_type": "code",
   "execution_count": null,
   "metadata": {},
   "outputs": [],
   "source": [
    "print(f\"Simulation name: {simulation_result.name}\")\n",
    "print(f\"Simulation start time: {simulation_result.simulation_start_ts}\")\n",
    "print(f\"Simulation end time: {simulation_result.simulation_end_ts}\")\n",
    "print(f\"Simulation symbol: {simulation_result.symbol}\")\n",
    "print(f\"Simulation timeframe: {simulation_result.timeframe}\")\n",
    "print(\n",
    "    f\"Simulation duration: {simulation_result.run_end_ts - simulation_result.run_start_ts} seconds\"\n",
    ")"
   ]
  },
  {
   "cell_type": "markdown",
   "metadata": {},
   "source": [
    "# Load data"
   ]
  },
  {
   "cell_type": "code",
   "execution_count": null,
   "metadata": {},
   "outputs": [],
   "source": [
    "DATA_BASE_PATH = \"../data/binance-futures\""
   ]
  },
  {
   "cell_type": "code",
   "execution_count": null,
   "metadata": {},
   "outputs": [],
   "source": [
    "from perp_simulation.gateway.ohlcv_repository import OHLCVRepository\n",
    "\n",
    "\n",
    "ohlcv_repository = OHLCVRepository(DATA_BASE_PATH)"
   ]
  },
  {
   "cell_type": "code",
   "execution_count": null,
   "metadata": {},
   "outputs": [],
   "source": [
    "from datetime import datetime, timezone\n",
    "\n",
    "ohlcv_df = ohlcv_repository.get_historical_dataframe(\n",
    "    simulation_result.symbol,\n",
    "    datetime.fromtimestamp(simulation_result.simulation_start_ts, tz=timezone.utc),\n",
    "    simulation_result.timeframe,\n",
    ")"
   ]
  },
  {
   "cell_type": "code",
   "execution_count": null,
   "metadata": {},
   "outputs": [],
   "source": [
    "ohlcv_df.head()"
   ]
  },
  {
   "cell_type": "code",
   "execution_count": null,
   "metadata": {},
   "outputs": [],
   "source": [
    "ohlcv_df.tail()"
   ]
  },
  {
   "cell_type": "markdown",
   "metadata": {},
   "source": [
    "# Analysis\n",
    "\n",
    "Analyze the progression of:\n",
    "- Account balance\n",
    "- Account margin balance\n",
    "- Position notional value\n",
    "- Position unrealized PnL\n",
    "- Position effective leverage\n",
    "- Position liquidation price"
   ]
  },
  {
   "cell_type": "code",
   "execution_count": null,
   "metadata": {},
   "outputs": [],
   "source": [
    "from typing import List\n",
    "from perp_simulation.entity.account_snapshot import AccountSnapshot\n",
    "\n",
    "\n",
    "def get_account_progression(account_snapshots: List[AccountSnapshot]) -> pd.DataFrame:\n",
    "    snapshot_tss = []\n",
    "    account_balances = []\n",
    "    position_quantities = []\n",
    "    position_unrealized_pnls = []\n",
    "    position_effective_leverages = []\n",
    "    position_liquidation_prices = []\n",
    "    for snapshot in account_snapshots:\n",
    "        snapshot_tss.append(snapshot.ts)\n",
    "        account_balances.append(snapshot.account.balance)\n",
    "        if snapshot.account.positions is None or len(snapshot.account.positions) == 0:\n",
    "            position_quantities.append(None)\n",
    "            position_unrealized_pnls.append(None)\n",
    "            position_effective_leverages.append(None)\n",
    "            position_liquidation_prices.append(None)\n",
    "        else:\n",
    "            position_quantities.append(snapshot.account.positions[0].quantity)\n",
    "            position_unrealized_pnls.append(\n",
    "                snapshot.account.positions[0].unrealized_pnl\n",
    "            )\n",
    "            position_effective_leverages.append(\n",
    "                snapshot.account.positions[0].effective_leverage\n",
    "            )\n",
    "            position_liquidation_prices.append(\n",
    "                snapshot.account.positions[0].liquidation_price\n",
    "            )\n",
    "    _index = pd.to_datetime(snapshot_tss, unit=\"s\", utc=True)\n",
    "    _df = pd.DataFrame(\n",
    "        {\n",
    "            \"account_balance\": account_balances,\n",
    "            \"position_quantity\": position_quantities,\n",
    "            \"position_unrealized_pnl\": position_unrealized_pnls,\n",
    "            \"position_effective_leverage\": position_effective_leverages,\n",
    "            \"position_liquidation_price\": position_liquidation_prices,\n",
    "        },\n",
    "        index=_index,\n",
    "    )\n",
    "    return _df"
   ]
  },
  {
   "cell_type": "code",
   "execution_count": null,
   "metadata": {},
   "outputs": [],
   "source": [
    "progression_df = get_account_progression(simulation_result.account_snapshots)"
   ]
  },
  {
   "cell_type": "code",
   "execution_count": null,
   "metadata": {},
   "outputs": [],
   "source": [
    "progression_df.head()"
   ]
  },
  {
   "cell_type": "code",
   "execution_count": null,
   "metadata": {},
   "outputs": [],
   "source": [
    "progression_df.tail()"
   ]
  },
  {
   "cell_type": "code",
   "execution_count": null,
   "metadata": {},
   "outputs": [],
   "source": [
    "def plot_account_with_price(df: pd.DataFrame, price_df: pd.DataFrame):\n",
    "    fig = px.line(\n",
    "        df, x=df.index, y=\"account_balance\", title=\"Account balance progression\"\n",
    "    )\n",
    "    fig.add_scatter(x=price_df.index, y=price_df[\"close\"], mode=\"lines\", name=\"Price\")\n",
    "    fig.show()"
   ]
  },
  {
   "cell_type": "code",
   "execution_count": null,
   "metadata": {},
   "outputs": [],
   "source": [
    "to_str = \"2024-01-24\"\n",
    "plot_account_with_price(progression_df.loc[:to_str, :], ohlcv_df.loc[:to_str, :])"
   ]
  },
  {
   "cell_type": "code",
   "execution_count": null,
   "metadata": {},
   "outputs": [],
   "source": [
    "def plot_position_with_price(df: pd.DataFrame, price_df: pd.DataFrame):\n",
    "    # Calculate values\n",
    "    position_notional_value = df[\"position_quantity\"] * price_df[\"close\"]\n",
    "    position_unrealized_pnl = df[\"position_unrealized_pnl\"]\n",
    "    position_effective_leverage = df[\"position_effective_leverage\"]\n",
    "    position_liquidation_price = df[\"position_liquidation_price\"]\n",
    "\n",
    "    # Create a figure\n",
    "    fig = go.Figure()\n",
    "\n",
    "    # Add traces\n",
    "    fig.add_trace(\n",
    "        go.Scatter(\n",
    "            x=position_notional_value.index,\n",
    "            y=position_notional_value,\n",
    "            mode=\"lines\",\n",
    "            name=\"Position notional value\",\n",
    "        )\n",
    "    )\n",
    "    fig.add_trace(\n",
    "        go.Scatter(\n",
    "            x=position_unrealized_pnl.index,\n",
    "            y=position_unrealized_pnl,\n",
    "            mode=\"lines\",\n",
    "            name=\"Position unrealized PnL\",\n",
    "        )\n",
    "    )\n",
    "    fig.add_trace(\n",
    "        go.Scatter(\n",
    "            x=position_effective_leverage.index,\n",
    "            y=position_effective_leverage,\n",
    "            mode=\"lines\",\n",
    "            name=\"Position effective leverage\",\n",
    "        )\n",
    "    )\n",
    "    fig.add_trace(\n",
    "        go.Scatter(\n",
    "            x=position_liquidation_price.index,\n",
    "            y=position_liquidation_price,\n",
    "            mode=\"lines\",\n",
    "            name=\"Position liquidation price\",\n",
    "        )\n",
    "    )\n",
    "    fig.add_trace(\n",
    "        go.Scatter(x=price_df.index, y=price_df[\"close\"], mode=\"lines\", name=\"Price\")\n",
    "    )\n",
    "\n",
    "    # Show the figure\n",
    "    fig.show()"
   ]
  },
  {
   "cell_type": "code",
   "execution_count": null,
   "metadata": {},
   "outputs": [],
   "source": [
    "plot_position_with_price(progression_df.loc[:to_str, :], ohlcv_df.loc[:to_str, :])"
   ]
  },
  {
   "cell_type": "code",
   "execution_count": null,
   "metadata": {},
   "outputs": [],
   "source": []
  }
 ],
 "metadata": {
  "kernelspec": {
   "display_name": ".venv",
   "language": "python",
   "name": "python3"
  },
  "language_info": {
   "codemirror_mode": {
    "name": "ipython",
    "version": 3
   },
   "file_extension": ".py",
   "mimetype": "text/x-python",
   "name": "python",
   "nbconvert_exporter": "python",
   "pygments_lexer": "ipython3",
   "version": "3.12.0"
  }
 },
 "nbformat": 4,
 "nbformat_minor": 2
}
